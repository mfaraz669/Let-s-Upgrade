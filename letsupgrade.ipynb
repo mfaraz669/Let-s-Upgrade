{
  "nbformat": 4,
  "nbformat_minor": 0,
  "metadata": {
    "colab": {
      "name": "letsupgrade.ipynb",
      "provenance": [],
      "authorship_tag": "ABX9TyMTJ5CFINOmkPD1i3CjtReY",
      "include_colab_link": true
    },
    "kernelspec": {
      "name": "python3",
      "display_name": "Python 3"
    }
  },
  "cells": [
    {
      "cell_type": "markdown",
      "metadata": {
        "id": "view-in-github",
        "colab_type": "text"
      },
      "source": [
        "<a href=\"https://colab.research.google.com/github/mfaraz669/Let-s-Upgrade/blob/main/letsupgrade.ipynb\" target=\"_parent\"><img src=\"https://colab.research.google.com/assets/colab-badge.svg\" alt=\"Open In Colab\"/></a>"
      ]
    },
    {
      "cell_type": "code",
      "metadata": {
        "colab": {
          "base_uri": "https://localhost:8080/"
        },
        "id": "sReKTCq3PAuE",
        "outputId": "4aeb5b1a-900f-4575-c2c5-ad4624799bcc"
      },
      "source": [
        "data = 6500\r\n",
        "if data < 1001:\r\n",
        "  print('safe to land')\r\n",
        "elif data > 1000 and data < 5000:\r\n",
        "  print('bring it down')\r\n",
        "else:\r\n",
        "  print('turn around')"
      ],
      "execution_count": null,
      "outputs": [
        {
          "output_type": "stream",
          "text": [
            "turn around\n"
          ],
          "name": "stdout"
        }
      ]
    },
    {
      "cell_type": "code",
      "metadata": {
        "colab": {
          "base_uri": "https://localhost:8080/"
        },
        "id": "g0NfjFSJPpW-",
        "outputId": "b23fe642-aa46-45cf-e346-b70b4acf440f"
      },
      "source": [
        "notseeing = 'y'\r\n",
        "while notseeing == 'y':\r\n",
        "\r\n",
        " print('cheating karlo')\r\n",
        " notseeing = input('koi nhi dekra')\r\n",
        "\r\n",
        "else:\r\n",
        "  print('bas kar')"
      ],
      "execution_count": null,
      "outputs": [
        {
          "output_type": "stream",
          "text": [
            "cheating karlo\n",
            "koi nhi dekray\n",
            "cheating karlo\n",
            "koi nhi dekran\n",
            "bas kar\n"
          ],
          "name": "stdout"
        }
      ]
    },
    {
      "cell_type": "code",
      "metadata": {
        "id": "PPBoFcgLWMiG",
        "colab": {
          "base_uri": "https://localhost:8080/"
        },
        "outputId": "00e450f5-91b3-41ea-ba3d-ed98a69cc492"
      },
      "source": [
        "def tables(num):\r\n",
        "  for item in range(1,21):\r\n",
        "    print(num, 'x', item, '=' , num*item)\r\n",
        "tables(45)"
      ],
      "execution_count": 9,
      "outputs": [
        {
          "output_type": "stream",
          "text": [
            "45 x 1 = 45\n",
            "45 x 2 = 90\n",
            "45 x 3 = 135\n",
            "45 x 4 = 180\n",
            "45 x 5 = 225\n",
            "45 x 6 = 270\n",
            "45 x 7 = 315\n",
            "45 x 8 = 360\n",
            "45 x 9 = 405\n",
            "45 x 10 = 450\n",
            "45 x 11 = 495\n",
            "45 x 12 = 540\n",
            "45 x 13 = 585\n",
            "45 x 14 = 630\n",
            "45 x 15 = 675\n",
            "45 x 16 = 720\n",
            "45 x 17 = 765\n",
            "45 x 18 = 810\n",
            "45 x 19 = 855\n",
            "45 x 20 = 900\n"
          ],
          "name": "stdout"
        }
      ]
    },
    {
      "cell_type": "code",
      "metadata": {
        "id": "XEasrEMwaIJq"
      },
      "source": [
        "def powerfive(num):\r\n",
        "  return num**5\r\n",
        "  \r\n",
        "  "
      ],
      "execution_count": 14,
      "outputs": []
    },
    {
      "cell_type": "code",
      "metadata": {
        "colab": {
          "base_uri": "https://localhost:8080/"
        },
        "id": "uqDouHiqa2p7",
        "outputId": "245055a7-d1c6-4006-a7cb-e86339001145"
      },
      "source": [
        "print(powerfive(7))"
      ],
      "execution_count": 16,
      "outputs": [
        {
          "output_type": "stream",
          "text": [
            "16807\n"
          ],
          "name": "stdout"
        }
      ]
    }
  ]
}